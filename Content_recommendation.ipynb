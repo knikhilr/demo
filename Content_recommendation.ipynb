{
 "cells": [
  {
   "cell_type": "code",
   "execution_count": 15,
   "id": "dd9acd1e-1650-4c26-afd1-7609c5d81e47",
   "metadata": {},
   "outputs": [],
   "source": [
    "import pandas as pd\n",
    "from sklearn.metrics.pairwise import cosine_similarity\n",
    "\n",
    "# Example view history data\n",
    "data = {'UserID': [1, 1, 2, 2, 3, 3],\n",
    "        'ProductID': ['A', 'B', 'A', 'C', 'B', 'C']}\n",
    "df = pd.DataFrame(data)"
   ]
  },
  {
   "cell_type": "code",
   "execution_count": 16,
   "id": "c3c58d15-45ba-41cf-bdf7-137e113f59e1",
   "metadata": {},
   "outputs": [
    {
     "data": {
      "text/html": [
       "<div>\n",
       "<style scoped>\n",
       "    .dataframe tbody tr th:only-of-type {\n",
       "        vertical-align: middle;\n",
       "    }\n",
       "\n",
       "    .dataframe tbody tr th {\n",
       "        vertical-align: top;\n",
       "    }\n",
       "\n",
       "    .dataframe thead th {\n",
       "        text-align: right;\n",
       "    }\n",
       "</style>\n",
       "<table border=\"1\" class=\"dataframe\">\n",
       "  <thead>\n",
       "    <tr style=\"text-align: right;\">\n",
       "      <th></th>\n",
       "      <th>UserID</th>\n",
       "      <th>ProductID</th>\n",
       "    </tr>\n",
       "  </thead>\n",
       "  <tbody>\n",
       "    <tr>\n",
       "      <th>0</th>\n",
       "      <td>1</td>\n",
       "      <td>A</td>\n",
       "    </tr>\n",
       "    <tr>\n",
       "      <th>1</th>\n",
       "      <td>1</td>\n",
       "      <td>B</td>\n",
       "    </tr>\n",
       "    <tr>\n",
       "      <th>2</th>\n",
       "      <td>2</td>\n",
       "      <td>A</td>\n",
       "    </tr>\n",
       "    <tr>\n",
       "      <th>3</th>\n",
       "      <td>2</td>\n",
       "      <td>C</td>\n",
       "    </tr>\n",
       "    <tr>\n",
       "      <th>4</th>\n",
       "      <td>3</td>\n",
       "      <td>B</td>\n",
       "    </tr>\n",
       "    <tr>\n",
       "      <th>5</th>\n",
       "      <td>3</td>\n",
       "      <td>C</td>\n",
       "    </tr>\n",
       "  </tbody>\n",
       "</table>\n",
       "</div>"
      ],
      "text/plain": [
       "   UserID ProductID\n",
       "0       1         A\n",
       "1       1         B\n",
       "2       2         A\n",
       "3       2         C\n",
       "4       3         B\n",
       "5       3         C"
      ]
     },
     "execution_count": 16,
     "metadata": {},
     "output_type": "execute_result"
    }
   ],
   "source": [
    "df.head(10)"
   ]
  },
  {
   "cell_type": "code",
   "execution_count": 17,
   "id": "55dceedf-0e5b-480e-8dd1-5440e1febe80",
   "metadata": {},
   "outputs": [],
   "source": [
    "# Create co-occurrence matrix\n",
    "product_user_matrix = pd.crosstab(df['ProductID'], df['UserID'])\n"
   ]
  },
  {
   "cell_type": "code",
   "execution_count": 18,
   "id": "d6b362b5-852d-4df9-ad8a-4dfcef9c6d64",
   "metadata": {},
   "outputs": [
    {
     "data": {
      "text/html": [
       "<div>\n",
       "<style scoped>\n",
       "    .dataframe tbody tr th:only-of-type {\n",
       "        vertical-align: middle;\n",
       "    }\n",
       "\n",
       "    .dataframe tbody tr th {\n",
       "        vertical-align: top;\n",
       "    }\n",
       "\n",
       "    .dataframe thead th {\n",
       "        text-align: right;\n",
       "    }\n",
       "</style>\n",
       "<table border=\"1\" class=\"dataframe\">\n",
       "  <thead>\n",
       "    <tr style=\"text-align: right;\">\n",
       "      <th>UserID</th>\n",
       "      <th>1</th>\n",
       "      <th>2</th>\n",
       "      <th>3</th>\n",
       "    </tr>\n",
       "    <tr>\n",
       "      <th>ProductID</th>\n",
       "      <th></th>\n",
       "      <th></th>\n",
       "      <th></th>\n",
       "    </tr>\n",
       "  </thead>\n",
       "  <tbody>\n",
       "    <tr>\n",
       "      <th>A</th>\n",
       "      <td>1</td>\n",
       "      <td>1</td>\n",
       "      <td>0</td>\n",
       "    </tr>\n",
       "    <tr>\n",
       "      <th>B</th>\n",
       "      <td>1</td>\n",
       "      <td>0</td>\n",
       "      <td>1</td>\n",
       "    </tr>\n",
       "    <tr>\n",
       "      <th>C</th>\n",
       "      <td>0</td>\n",
       "      <td>1</td>\n",
       "      <td>1</td>\n",
       "    </tr>\n",
       "  </tbody>\n",
       "</table>\n",
       "</div>"
      ],
      "text/plain": [
       "UserID     1  2  3\n",
       "ProductID         \n",
       "A          1  1  0\n",
       "B          1  0  1\n",
       "C          0  1  1"
      ]
     },
     "execution_count": 18,
     "metadata": {},
     "output_type": "execute_result"
    }
   ],
   "source": [
    "product_user_matrix"
   ]
  },
  {
   "cell_type": "code",
   "execution_count": 19,
   "id": "7c4b7a69-5697-4901-9353-71c4697fda4c",
   "metadata": {},
   "outputs": [],
   "source": [
    "co_occurrence = cosine_similarity(product_user_matrix)"
   ]
  },
  {
   "cell_type": "code",
   "execution_count": 20,
   "id": "ea9196d2-a7ea-4934-8464-f545c957f200",
   "metadata": {},
   "outputs": [
    {
     "data": {
      "text/plain": [
       "array([[1. , 0.5, 0.5],\n",
       "       [0.5, 1. , 0.5],\n",
       "       [0.5, 0.5, 1. ]])"
      ]
     },
     "execution_count": 20,
     "metadata": {},
     "output_type": "execute_result"
    }
   ],
   "source": [
    "co_occurrence"
   ]
  },
  {
   "cell_type": "code",
   "execution_count": 21,
   "id": "15199d0f-4097-4de3-93fc-6c5be47af3aa",
   "metadata": {},
   "outputs": [],
   "source": [
    "# Convert to DataFrame for interpretation\n",
    "co_occurrence_df = pd.DataFrame(co_occurrence, \n",
    "                                index=product_user_matrix.index,\n",
    "                                columns=product_user_matrix.index)"
   ]
  },
  {
   "cell_type": "code",
   "execution_count": 22,
   "id": "c69241ed-7347-49c1-8225-c4f7e042738d",
   "metadata": {},
   "outputs": [
    {
     "data": {
      "text/html": [
       "<div>\n",
       "<style scoped>\n",
       "    .dataframe tbody tr th:only-of-type {\n",
       "        vertical-align: middle;\n",
       "    }\n",
       "\n",
       "    .dataframe tbody tr th {\n",
       "        vertical-align: top;\n",
       "    }\n",
       "\n",
       "    .dataframe thead th {\n",
       "        text-align: right;\n",
       "    }\n",
       "</style>\n",
       "<table border=\"1\" class=\"dataframe\">\n",
       "  <thead>\n",
       "    <tr style=\"text-align: right;\">\n",
       "      <th>ProductID</th>\n",
       "      <th>A</th>\n",
       "      <th>B</th>\n",
       "      <th>C</th>\n",
       "    </tr>\n",
       "    <tr>\n",
       "      <th>ProductID</th>\n",
       "      <th></th>\n",
       "      <th></th>\n",
       "      <th></th>\n",
       "    </tr>\n",
       "  </thead>\n",
       "  <tbody>\n",
       "    <tr>\n",
       "      <th>A</th>\n",
       "      <td>1.0</td>\n",
       "      <td>0.5</td>\n",
       "      <td>0.5</td>\n",
       "    </tr>\n",
       "    <tr>\n",
       "      <th>B</th>\n",
       "      <td>0.5</td>\n",
       "      <td>1.0</td>\n",
       "      <td>0.5</td>\n",
       "    </tr>\n",
       "    <tr>\n",
       "      <th>C</th>\n",
       "      <td>0.5</td>\n",
       "      <td>0.5</td>\n",
       "      <td>1.0</td>\n",
       "    </tr>\n",
       "  </tbody>\n",
       "</table>\n",
       "</div>"
      ],
      "text/plain": [
       "ProductID    A    B    C\n",
       "ProductID               \n",
       "A          1.0  0.5  0.5\n",
       "B          0.5  1.0  0.5\n",
       "C          0.5  0.5  1.0"
      ]
     },
     "execution_count": 22,
     "metadata": {},
     "output_type": "execute_result"
    }
   ],
   "source": [
    "co_occurrence_df"
   ]
  },
  {
   "cell_type": "code",
   "execution_count": 23,
   "id": "93a0798b-fe8e-448b-87bf-13f27a02e2d0",
   "metadata": {},
   "outputs": [
    {
     "name": "stdout",
     "output_type": "stream",
     "text": [
      "['B', 'C']\n"
     ]
    }
   ],
   "source": [
    "# Get recommendations for product 'A'\n",
    "recommendations = co_occurrence_df['A'].sort_values(ascending=False).index.tolist()\n",
    "recommendations.remove('A')  # Exclude the product itself\n",
    "print(recommendations)"
   ]
  },
  {
   "cell_type": "markdown",
   "id": "b28ad2b2-bb1e-479e-9da3-3c05909f0304",
   "metadata": {},
   "source": [
    "**Python Code for User-Based Collaborative Filtering**"
   ]
  },
  {
   "cell_type": "code",
   "execution_count": 41,
   "id": "a09c66be-4411-45e3-aef5-6d272ac71a6a",
   "metadata": {},
   "outputs": [
    {
     "name": "stdout",
     "output_type": "stream",
     "text": [
      "ProductID  A  B  C  D\n",
      "UserID               \n",
      "1          1  1  0  0\n",
      "2          1  0  1  1\n",
      "3          0  1  1  1\n",
      "4          1  0  0  1\n",
      "UserID\n",
      "4    0.500000\n",
      "2    0.408248\n",
      "3    0.408248\n",
      "Name: 1, dtype: float64\n",
      "ProductID\n",
      "A    1\n",
      "B    0\n",
      "C    0\n",
      "D    1\n",
      "Name: 4, dtype: int64\n",
      "ProductID\n",
      "A    1\n",
      "B    0\n",
      "C    1\n",
      "D    1\n",
      "Name: 2, dtype: int64\n",
      "ProductID\n",
      "A    0\n",
      "B    1\n",
      "C    1\n",
      "D    1\n",
      "Name: 3, dtype: int64\n",
      "Recommendations for user 1:\n",
      "ProductID\n",
      "D    1.316497\n",
      "C    0.816497\n",
      "dtype: float64\n"
     ]
    }
   ],
   "source": [
    "import pandas as pd\n",
    "from sklearn.metrics.pairwise import cosine_similarity\n",
    "\n",
    "# Example view history data\n",
    "data = {\n",
    "    'UserID': [1, 1, 2, 2, 2, 3, 3, 3, 4, 4],\n",
    "    'ProductID': ['A', 'B', 'A', 'C', 'D', 'B', 'C', 'D', 'A', 'D']\n",
    "}\n",
    "df = pd.DataFrame(data)\n",
    "\n",
    "# Step 1: Create User-Item Interaction Matrix\n",
    "interaction_matrix = pd.crosstab(df['UserID'], df['ProductID'])\n",
    "print(interaction_matrix)\n",
    "# Step 2: Compute User-User Similarity\n",
    "user_similarity = cosine_similarity(interaction_matrix)\n",
    "user_similarity_df = pd.DataFrame(user_similarity, \n",
    "                                   index=interaction_matrix.index, \n",
    "                                   columns=interaction_matrix.index)\n",
    "\n",
    "print(user_similarity_df[1].sort_values(ascending=False).drop(1))\n",
    "# Step 3: Recommend Products\n",
    "def recommend_for_user(user_id, top_n=3):\n",
    "    if user_id not in user_similarity_df.index:\n",
    "        return f\"User {user_id} not found in the dataset.\"\n",
    "    \n",
    "    # Find similar users\n",
    "    similar_users = user_similarity_df[user_id].sort_values(ascending=False).drop(user_id)\n",
    "    \n",
    "    # Aggregate products viewed by similar users, weighted by similarity\n",
    "    recommendations = pd.Series(dtype=float)\n",
    "    for similar_user, similarity_score in similar_users.items():\n",
    "        # Get the products viewed by the similar user\n",
    "        viewed_products = interaction_matrix.loc[similar_user]\n",
    "        print(viewed_products)\n",
    "        weighted_scores = viewed_products * similarity_score\n",
    "        recommendations = recommendations.add(weighted_scores, fill_value=0)\n",
    "    \n",
    "    # Exclude products already viewed by the target user\n",
    "    user_products = interaction_matrix.loc[user_id]\n",
    "    recommendations = recommendations[user_products == 0]\n",
    "    \n",
    "    # Sort and return the top N products\n",
    "    return recommendations.sort_values(ascending=False).head(top_n)\n",
    "\n",
    "# Test the function\n",
    "user_to_query = 1\n",
    "recommendations = recommend_for_user(user_to_query, top_n=3)\n",
    "print(f\"Recommendations for user {user_to_query}:\")\n",
    "print(recommendations)\n"
   ]
  },
  {
   "cell_type": "markdown",
   "id": "e4ed951e-9846-4d2b-ae5c-4e60033addfc",
   "metadata": {},
   "source": [
    "**Python Code for Item-Based Collaborative Filtering**"
   ]
  },
  {
   "cell_type": "code",
   "execution_count": 30,
   "id": "67e704f5-6c61-46ac-a90d-f663afb03a48",
   "metadata": {},
   "outputs": [
    {
     "name": "stdout",
     "output_type": "stream",
     "text": [
      "UserID     1  2  3  4\n",
      "ProductID            \n",
      "A          1  1  0  1\n",
      "B          1  0  1  0\n",
      "C          0  1  1  0\n",
      "D          0  1  1  1\n",
      "ProductID         A         B         C         D\n",
      "ProductID                                        \n",
      "A          1.000000  0.408248  0.408248  0.666667\n",
      "B          0.408248  1.000000  0.500000  0.408248\n",
      "C          0.408248  0.500000  1.000000  0.816497\n",
      "D          0.666667  0.408248  0.816497  1.000000\n",
      "Recommendations for product A:\n",
      "ProductID\n",
      "D    0.666667\n",
      "B    0.408248\n",
      "C    0.408248\n",
      "Name: A, dtype: float64\n"
     ]
    }
   ],
   "source": [
    "import pandas as pd\n",
    "from sklearn.metrics.pairwise import cosine_similarity\n",
    "\n",
    "# Example view history data\n",
    "data = {\n",
    "    'UserID': [1, 1, 2, 2, 2, 3, 3, 3, 4, 4],\n",
    "    'ProductID': ['A', 'B', 'A', 'C', 'D', 'B', 'C', 'D', 'A', 'D']\n",
    "}\n",
    "df = pd.DataFrame(data)\n",
    "\n",
    "# Step 1: Create User-Item Interaction Matrix\n",
    "# Each row is a user, and each column is a product. Values indicate interaction (e.g., viewed = 1)\n",
    "interaction_matrix = pd.crosstab(df['UserID'], df['ProductID'])\n",
    "print(interaction_matrix.T)\n",
    "# Step 2: Compute Item-Item Similarity\n",
    "# Using cosine similarity\n",
    "item_similarity = cosine_similarity(interaction_matrix.T)\n",
    "item_similarity_df = pd.DataFrame(item_similarity, \n",
    "                                   index=interaction_matrix.columns, \n",
    "                                   columns=interaction_matrix.columns)\n",
    "print(item_similarity_df)\n",
    "\n",
    "# Step 3: Recommend Similar Products\n",
    "def recommend_similar_items(product_id, top_n=3):\n",
    "    if product_id not in item_similarity_df.index:\n",
    "        return f\"Product {product_id} not in the dataset.\"\n",
    "    \n",
    "    # Sort by similarity score and exclude the product itself\n",
    "    similar_items = item_similarity_df[product_id].sort_values(ascending=False)\n",
    "    similar_items = similar_items.drop(product_id)  # Remove self-similarity\n",
    "    return similar_items.head(top_n)\n",
    "\n",
    "# Test the function\n",
    "product_to_query = 'A'\n",
    "recommendations = recommend_similar_items(product_to_query, top_n=3)\n",
    "print(f\"Recommendations for product {product_to_query}:\")\n",
    "print(recommendations)\n"
   ]
  },
  {
   "cell_type": "code",
   "execution_count": null,
   "id": "76e0f0dd-ab68-4505-8f63-2ac249df9846",
   "metadata": {},
   "outputs": [],
   "source": []
  }
 ],
 "metadata": {
  "kernelspec": {
   "display_name": "Python 3 (ipykernel)",
   "language": "python",
   "name": "python3"
  },
  "language_info": {
   "codemirror_mode": {
    "name": "ipython",
    "version": 3
   },
   "file_extension": ".py",
   "mimetype": "text/x-python",
   "name": "python",
   "nbconvert_exporter": "python",
   "pygments_lexer": "ipython3",
   "version": "3.10.12"
  }
 },
 "nbformat": 4,
 "nbformat_minor": 5
}
